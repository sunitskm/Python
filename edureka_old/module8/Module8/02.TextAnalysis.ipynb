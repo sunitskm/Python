{
 "cells": [
  {
   "cell_type": "markdown",
   "metadata": {},
   "source": [
    "# Text analysis using term frequency and inverse document frequency"
   ]
  },
  {
   "cell_type": "code",
   "execution_count": 1,
   "metadata": {},
   "outputs": [],
   "source": [
    "from sklearn.datasets import fetch_20newsgroups\n",
    "categories = ['sci.med', 'sci.space']\n",
    "science_news_data = fetch_20newsgroups(categories=categories)\n",
    "#print science_news_data"
   ]
  },
  {
   "cell_type": "markdown",
   "metadata": {},
   "source": [
    "# Term Frequency - ascertain frequency of words that appear in text"
   ]
  },
  {
   "cell_type": "code",
   "execution_count": 3,
   "metadata": {},
   "outputs": [
    {
     "name": "stdout",
     "output_type": "stream",
     "text": [
      "(1187, 25638)\n",
      "\n"
     ]
    }
   ],
   "source": [
    "from sklearn.feature_extraction.text import CountVectorizer\n",
    "count_vect = CountVectorizer()\n",
    "word_count = count_vect.fit_transform(science_news_data.data)\n",
    "print word_count.shape\n",
    "#print word_count[:3,:20]"
   ]
  },
  {
   "cell_type": "markdown",
   "metadata": {},
   "source": [
    "## Inverse Document Frequency"
   ]
  },
  {
   "cell_type": "code",
   "execution_count": 6,
   "metadata": {},
   "outputs": [
    {
     "name": "stdout",
     "output_type": "stream",
     "text": [
      "Word: fred has frequency 0.010989010989\n",
      "Word: twilight has frequency 0.010989010989\n",
      "Word: evening has frequency 0.010989010989\n",
      "Word: in has frequency 0.010989010989\n",
      "Word: presence has frequency 0.010989010989\n",
      "Word: its has frequency 0.010989010989\n",
      "Word: blare has frequency 0.010989010989\n",
      "Word: freely has frequency 0.010989010989\n",
      "Word: may has frequency 0.010989010989\n",
      "Word: god has frequency 0.010989010989\n",
      "Word: blessed has frequency 0.010989010989\n",
      "Word: is has frequency 0.010989010989\n",
      "Word: profiting has frequency 0.010989010989\n",
      "Word: right has frequency 0.010989010989\n",
      "Word: priesthood has frequency 0.010989010989\n",
      "Word: and has frequency 0.021978021978\n",
      "Word: farming has frequency 0.010989010989\n",
      "Word: caste has frequency 0.032967032967\n",
      "Word: warrior has frequency 0.010989010989\n",
      "Word: practiced has frequency 0.010989010989\n",
      "Word: those has frequency 0.010989010989\n",
      "Word: than has frequency 0.010989010989\n",
      "Word: activities has frequency 0.010989010989\n",
      "Word: human has frequency 0.010989010989\n",
      "Word: more has frequency 0.010989010989\n",
      "Word: are has frequency 0.010989010989\n",
      "Word: there has frequency 0.010989010989\n",
      "Word: that has frequency 0.010989010989\n",
      "Word: remember has frequency 0.010989010989\n",
      "Word: to has frequency 0.010989010989\n",
      "Word: try has frequency 0.010989010989\n",
      "Word: please has frequency 0.010989010989\n",
      "Word: age has frequency 0.010989010989\n",
      "Word: bronze has frequency 0.010989010989\n",
      "Word: isn has frequency 0.010989010989\n",
      "Word: this has frequency 0.010989010989\n",
      "Word: finally has frequency 0.010989010989\n",
      "Word: usl has frequency 0.010989010989\n",
      "Word: cacs has frequency 0.010989010989\n",
      "Word: srl03 has frequency 0.010989010989\n",
      "Word: pgf has frequency 0.010989010989\n",
      "Word: fraering has frequency 0.010989010989\n",
      "Word: phil has frequency 0.010989010989\n",
      "Word: 12 has frequency 0.010989010989\n",
      "Word: lines has frequency 0.010989010989\n",
      "Word: sci has frequency 0.010989010989\n",
      "Word: distribution has frequency 0.010989010989\n",
      "Word: edu has frequency 0.021978021978\n",
      "Word: cmu has frequency 0.010989010989\n",
      "Word: cs has frequency 0.010989010989\n",
      "Word: venari has frequency 0.010989010989\n",
      "Word: vacation has frequency 0.010989010989\n",
      "Word: isu has frequency 0.010989010989\n",
      "Word: sender has frequency 0.010989010989\n",
      "Word: original has frequency 0.010989010989\n",
      "Word: university has frequency 0.010989010989\n",
      "Word: international has frequency 0.010989010989\n",
      "Word: via has frequency 0.010989010989\n",
      "Word: organization has frequency 0.010989010989\n",
      "Word: digest has frequency 0.010989010989\n",
      "Word: space has frequency 0.021978021978\n",
      "Word: by has frequency 0.032967032967\n",
      "Word: forwarded has frequency 0.010989010989\n",
      "Word: added has frequency 0.010989010989\n",
      "Word: sky has frequency 0.010989010989\n",
      "Word: the has frequency 0.0769230769231\n",
      "Word: vandalizing has frequency 0.010989010989\n",
      "Word: subject has frequency 0.010989010989\n",
      "Word: tm has frequency 0.021978021978\n",
      "Word: baube has frequency 0.021978021978\n",
      "Word: fi has frequency 0.010989010989\n",
      "Word: optiplan has frequency 0.010989010989\n",
      "Word: flb has frequency 0.021978021978\n",
      "Word: from has frequency 0.021978021978\n"
     ]
    }
   ],
   "source": [
    "from sklearn.feature_extraction.text import TfidfVectorizer\n",
    "tf_vect = TfidfVectorizer(use_idf=False, norm='l1')\n",
    "word_freq = tf_vect.fit_transform(science_news_data.data)\n",
    "word_list = tf_vect.get_feature_names()\n",
    "for n in word_freq[0].indices:\n",
    "    print \"Word:\", word_list[n], \"has frequency\", word_freq[0, n]"
   ]
  },
  {
   "cell_type": "code",
   "execution_count": null,
   "metadata": {
    "collapsed": true
   },
   "outputs": [],
   "source": []
  }
 ],
 "metadata": {
  "kernelspec": {
   "display_name": "Python 2",
   "language": "python",
   "name": "python2"
  },
  "language_info": {
   "codemirror_mode": {
    "name": "ipython",
    "version": 2
   },
   "file_extension": ".py",
   "mimetype": "text/x-python",
   "name": "python",
   "nbconvert_exporter": "python",
   "pygments_lexer": "ipython2",
   "version": "2.7.12"
  }
 },
 "nbformat": 4,
 "nbformat_minor": 1
}
