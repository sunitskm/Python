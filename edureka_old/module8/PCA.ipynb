{
 "cells": [
  {
   "cell_type": "code",
   "execution_count": 27,
   "metadata": {},
   "outputs": [
    {
     "name": "stdout",
     "output_type": "stream",
     "text": [
      "(50, 5)\n",
      "        Unnamed: 0  Murder  Assault  UrbanPop  Rape\n",
      "0          Alabama    13.2      236        58  21.2\n",
      "1           Alaska    10.0      263        48  44.5\n",
      "2          Arizona     8.1      294        80  31.0\n",
      "3         Arkansas     8.8      190        50  19.5\n",
      "4       California     9.0      276        91  40.6\n",
      "5         Colorado     7.9      204        78  38.7\n",
      "6      Connecticut     3.3      110        77  11.1\n",
      "7         Delaware     5.9      238        72  15.8\n",
      "8          Florida    15.4      335        80  31.9\n",
      "9          Georgia    17.4      211        60  25.8\n",
      "10          Hawaii     5.3       46        83  20.2\n",
      "11           Idaho     2.6      120        54  14.2\n",
      "12        Illinois    10.4      249        83  24.0\n",
      "13         Indiana     7.2      113        65  21.0\n",
      "14            Iowa     2.2       56        57  11.3\n",
      "15          Kansas     6.0      115        66  18.0\n",
      "16        Kentucky     9.7      109        52  16.3\n",
      "17       Louisiana    15.4      249        66  22.2\n",
      "18           Maine     2.1       83        51   7.8\n",
      "19        Maryland    11.3      300        67  27.8\n",
      "20   Massachusetts     4.4      149        85  16.3\n",
      "21        Michigan    12.1      255        74  35.1\n",
      "22       Minnesota     2.7       72        66  14.9\n",
      "23     Mississippi    16.1      259        44  17.1\n",
      "24        Missouri     9.0      178        70  28.2\n",
      "25         Montana     6.0      109        53  16.4\n",
      "26        Nebraska     4.3      102        62  16.5\n",
      "27          Nevada    12.2      252        81  46.0\n",
      "28   New Hampshire     2.1       57        56   9.5\n",
      "29      New Jersey     7.4      159        89  18.8\n",
      "30      New Mexico    11.4      285        70  32.1\n",
      "31        New York    11.1      254        86  26.1\n",
      "32  North Carolina    13.0      337        45  16.1\n",
      "33    North Dakota     0.8       45        44   7.3\n",
      "34            Ohio     7.3      120        75  21.4\n",
      "35        Oklahoma     6.6      151        68  20.0\n",
      "36          Oregon     4.9      159        67  29.3\n",
      "37    Pennsylvania     6.3      106        72  14.9\n",
      "38    Rhode Island     3.4      174        87   8.3\n",
      "39  South Carolina    14.4      279        48  22.5\n",
      "40    South Dakota     3.8       86        45  12.8\n",
      "41       Tennessee    13.2      188        59  26.9\n",
      "42           Texas    12.7      201        80  25.5\n",
      "43            Utah     3.2      120        80  22.9\n",
      "44         Vermont     2.2       48        32  11.2\n",
      "45        Virginia     8.5      156        63  20.7\n",
      "46      Washington     4.0      145        73  26.2\n",
      "47   West Virginia     5.7       81        39   9.3\n",
      "48       Wisconsin     2.6       53        66  10.8\n",
      "49         Wyoming     6.8      161        60  15.6\n"
     ]
    }
   ],
   "source": [
    "from sklearn.datasets import load_iris\n",
    "from sklearn.decomposition import PCA\n",
    "import pylab as pl\n",
    "import pandas as pd\n",
    "from itertools import cycle\n",
    "#iris = load_iris()\n",
    "#print(dir(iris))\n",
    "#print(iris.feature_names)\n",
    "#print(iris.target_names)\n",
    "#print(type(iris))'''\n",
    "df1 = pd.read_csv(\"USArrests.csv\")\n",
    "print(df1.shape)\n",
    "numSamples,numFeatures = df1.shape\n",
    "print(df1)"
   ]
  },
  {
   "cell_type": "code",
   "execution_count": 36,
   "metadata": {},
   "outputs": [
    {
     "name": "stdout",
     "output_type": "stream",
     "text": [
      "[ 0.97209518  0.02670022]\n"
     ]
    }
   ],
   "source": [
    "import pandas as pd\n",
    "\n",
    "import matplotlib.pyplot as plt\n",
    "\n",
    "from sklearn.decomposition import PCA\n",
    "\n",
    "demo_df = pd.read_csv('USArrests.csv')\n",
    "demo_df.set_index('Unnamed: 0', inplace=True)\n",
    "\n",
    "target_names = demo_df.index\n",
    "tran_ne = demo_df.T\n",
    "\n",
    "pca = PCA(n_components=2,whiten=True).fit(tran_ne)\n",
    "X_pca = pca.transform(tran_ne)\n",
    "\n",
    "\n"
   ]
  },
  {
   "cell_type": "code",
   "execution_count": 37,
   "metadata": {},
   "outputs": [
    {
     "name": "stdout",
     "output_type": "stream",
     "text": [
      "[[ 0.1779812   0.1945314   0.22319226  0.14302623  0.20401734  0.1466367\n",
      "   0.08032466  0.18355386  0.25361341  0.15392069  0.02326245  0.08941569\n",
      "   0.1872356   0.07867816  0.03756905  0.08176483  0.07677987  0.18688778\n",
      "   0.06145306  0.22874465  0.10973847  0.18838805  0.04873453  0.19804713\n",
      "   0.12877615  0.07824312  0.07253825  0.18176289  0.0391038   0.11560843\n",
      "   0.21469584  0.19015738  0.26394212  0.03131539  0.08358775  0.11039377\n",
      "   0.11468312  0.07483591  0.13330201  0.21318623  0.06195584  0.13643409\n",
      "   0.14638831  0.08447935  0.03272355  0.11382365  0.10413881  0.0586063\n",
      "   0.03447393  0.12056953]\n",
      " [-0.08347983 -0.19417294 -0.05036253 -0.04914942  0.01518726  0.05145708\n",
      "   0.22126905  0.01007443 -0.12470109 -0.05573154  0.32154031  0.08799705\n",
      "   0.02953123  0.13341891  0.19469473  0.1427002   0.0726939  -0.06691132\n",
      "   0.13244694 -0.12830049  0.1997581  -0.04333711  0.21297466 -0.18759605\n",
      "   0.05708355  0.08662371  0.1459887  -0.01827077  0.19087053  0.19605298\n",
      "  -0.09865093  0.03358996 -0.27917803  0.1519564   0.17418855  0.10009605\n",
      "   0.07595396  0.18886787  0.18917421 -0.19729253  0.08703185 -0.02100538\n",
      "   0.07160144  0.20763491  0.07811982  0.06229588  0.13179194  0.06322945\n",
      "   0.2443583   0.05111052]]\n",
      "[ 0.97209518  0.02670022]\n"
     ]
    }
   ],
   "source": [
    "print (pca.components_)\n"
   ]
  },
  {
   "cell_type": "code",
   "execution_count": 40,
   "metadata": {},
   "outputs": [
    {
     "name": "stdout",
     "output_type": "stream",
     "text": [
      "[ 0.97209518  0.02670022]\n",
      "0.998795392115\n"
     ]
    }
   ],
   "source": [
    "#info we have managed to preserve\n",
    "print(pca.explained_variance_ratio_)\n",
    "#Pretty cool. we have managed to retain 92% of the variance in our data in a single dimentsion alone\n",
    "print (sum(pca.explained_variance_ratio_))\n",
    "#total of 99.8% info is retained."
   ]
  }
 ],
 "metadata": {
  "kernelspec": {
   "display_name": "Python 3",
   "language": "python",
   "name": "python3"
  },
  "language_info": {
   "codemirror_mode": {
    "name": "ipython",
    "version": 3
   },
   "file_extension": ".py",
   "mimetype": "text/x-python",
   "name": "python",
   "nbconvert_exporter": "python",
   "pygments_lexer": "ipython3",
   "version": "3.6.2"
  }
 },
 "nbformat": 4,
 "nbformat_minor": 2
}
