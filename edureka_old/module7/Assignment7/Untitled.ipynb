{
 "cells": [
  {
   "cell_type": "code",
   "execution_count": 19,
   "metadata": {},
   "outputs": [
    {
     "data": {
      "text/plain": [
       "0       8221\n",
       "1       9135\n",
       "2      13196\n",
       "3      16342\n",
       "4      19832\n",
       "5      22236\n",
       "6      22576\n",
       "7      22964\n",
       "8      24021\n",
       "9      27325\n",
       "10     10237\n",
       "11     15066\n",
       "12     16633\n",
       "13     19800\n",
       "14     23359\n",
       "15     23765\n",
       "16     24008\n",
       "17     26034\n",
       "18     32896\n",
       "19     34665\n",
       "20      8970\n",
       "21     10577\n",
       "22     14363\n",
       "23     16508\n",
       "24     18908\n",
       "25     19467\n",
       "26     21394\n",
       "27     22596\n",
       "28     24469\n",
       "29     25245\n",
       "       ...  \n",
       "774    18511\n",
       "775    19101\n",
       "776    19500\n",
       "777    19853\n",
       "778    21770\n",
       "779    21877\n",
       "780    22758\n",
       "781    22826\n",
       "782    23388\n",
       "783    24069\n",
       "784    24664\n",
       "785    24740\n",
       "786    26328\n",
       "787    28298\n",
       "788    28398\n",
       "789    29707\n",
       "790    32458\n",
       "791    32619\n",
       "792    33962\n",
       "793    34998\n",
       "794     5826\n",
       "795     7755\n",
       "796    10102\n",
       "797    10986\n",
       "798    14242\n",
       "799    16229\n",
       "800    19095\n",
       "801    20484\n",
       "802    25979\n",
       "803    35662\n",
       "Name: Mileage, Length: 804, dtype: int64"
      ]
     },
     "execution_count": 19,
     "metadata": {},
     "output_type": "execute_result"
    }
   ],
   "source": [
    "import pandas as pd\n",
    "data = pd.read_excel('cars.xls')\n",
    "y = data[\"Price\"]\n",
    "y\n",
    "x = data[\"Mileage\"]\n",
    "x"
   ]
  }
 ],
 "metadata": {
  "kernelspec": {
   "display_name": "Python 3",
   "language": "python",
   "name": "python3"
  },
  "language_info": {
   "codemirror_mode": {
    "name": "ipython",
    "version": 3
   },
   "file_extension": ".py",
   "mimetype": "text/x-python",
   "name": "python",
   "nbconvert_exporter": "python",
   "pygments_lexer": "ipython3",
   "version": "3.6.2"
  }
 },
 "nbformat": 4,
 "nbformat_minor": 2
}
